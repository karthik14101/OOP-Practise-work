{
  "nbformat": 4,
  "nbformat_minor": 0,
  "metadata": {
    "colab": {
      "name": "OOP Encapsulation examples",
      "provenance": [],
      "authorship_tag": "ABX9TyPLqbG6dpiZOIqmfMXylft7",
      "include_colab_link": true
    },
    "kernelspec": {
      "name": "python3",
      "display_name": "Python 3"
    },
    "language_info": {
      "name": "python"
    }
  },
  "cells": [
    {
      "cell_type": "markdown",
      "metadata": {
        "id": "view-in-github",
        "colab_type": "text"
      },
      "source": [
        "<a href=\"https://colab.research.google.com/github/karthik14101/OOP-Practise-work/blob/main/OOP_Encapsulation_examples.ipynb\" target=\"_parent\"><img src=\"https://colab.research.google.com/assets/colab-badge.svg\" alt=\"Open In Colab\"/></a>"
      ]
    },
    {
      "cell_type": "code",
      "metadata": {
        "colab": {
          "base_uri": "https://localhost:8080/"
        },
        "id": "qeQSidtK5-Q9",
        "outputId": "0e6de7fd-7f73-4362-b1d8-20f3fd9c214c"
      },
      "source": [
        "class Car:    \n",
        "    def __init__(self):\n",
        "        self.__maxspeed = 500\n",
        "        self.__name = \"Supercar\"    \n",
        "    def drive(self):\n",
        "        print('driving. maxspeed ' + str(self.__maxspeed))\n",
        "    def setmax(self,max):\n",
        "        self.__maxspeed = max\n",
        "    def getmax(self):\n",
        "        return self.__maxspeed\n",
        "redcar = Car()\n",
        "redcar.drive()\n",
        "mxspeed =20\n",
        "redcar.__maxspeed = 20        # will not change variable because its private\n",
        "print(redcar._Car__maxspeed)\n",
        "redcar.setmax(550)            \n",
        "redcar.drive()"
      ],
      "execution_count": 1,
      "outputs": [
        {
          "output_type": "stream",
          "name": "stdout",
          "text": [
            "driving. maxspeed 500\n",
            "500\n",
            "driving. maxspeed 550\n"
          ]
        }
      ]
    },
    {
      "cell_type": "code",
      "metadata": {
        "colab": {
          "base_uri": "https://localhost:8080/"
        },
        "id": "aBGUY3JJ6XqN",
        "outputId": "d74a21f7-aec1-4f4a-dcd5-70a635bb3448"
      },
      "source": [
        "# Python program to demonstrate private members\n",
        " \n",
        "# Creating a Base class\n",
        "class Base:\n",
        "    def __init__(self):\n",
        "        self.a = \"Maths Course\"\n",
        "        self.__c = \"IIIT Dharwad\"\n",
        "    def getc(self):\n",
        "      return self.__c\n",
        "# Creating a derived class\n",
        "class Derived(Base):\n",
        "    def __init__(self):   \n",
        "        # Calling constructor of Base class\n",
        "        Base.__init__(self)\n",
        "        print(\"Calling private member of base class: \")\n",
        "        #print(self.__C)        # in this way we cannot access \n",
        "        print(Base.getc(self))  # in this way we can access\n",
        "# Driver code\n",
        "obj1 = Derived()\n",
        "print(obj1.a)\n",
        "print(obj1.getc())"
      ],
      "execution_count": 2,
      "outputs": [
        {
          "output_type": "stream",
          "name": "stdout",
          "text": [
            "Calling private member of base class: \n",
            "IIIT Dharwad\n",
            "Maths Course\n",
            "IIIT Dharwad\n"
          ]
        }
      ]
    },
    {
      "cell_type": "code",
      "metadata": {
        "colab": {
          "base_uri": "https://localhost:8080/"
        },
        "id": "T3vT8BDA6zC7",
        "outputId": "ed731654-a59f-4ae9-cd0e-2663a7f55aad"
      },
      "source": [
        "# A Sample class with init method  \n",
        "class Country:  \n",
        "      \n",
        "    # init method or constructor   \n",
        "    def __init__(self,name):  \n",
        "        self.name = name \n",
        "      \n",
        "    # Sample Method   \n",
        "    def say_name(self):  \n",
        "        print('Hello, Country name is', self.name)  \n",
        "  \n",
        "# Creating different objects     \n",
        "c1 = Country('INDIA') \n",
        "c2 = Country('PAKISTHAN')\n",
        "c3 = Country('AFGHANISTHAN')\n",
        "  \n",
        "c1.say_name()  \n",
        "c2.say_name()\n",
        "c3.say_name()\n"
      ],
      "execution_count": 3,
      "outputs": [
        {
          "output_type": "stream",
          "name": "stdout",
          "text": [
            "Hello, Country name is INDIA\n",
            "Hello, Country name is PAKISTHAN\n",
            "Hello, Country name is AFGHANISTHAN\n"
          ]
        }
      ]
    },
    {
      "cell_type": "code",
      "metadata": {
        "colab": {
          "base_uri": "https://localhost:8080/"
        },
        "id": "3_YFqx8q7KEt",
        "outputId": "6dfd8a20-7c08-4956-d7c6-5f15cad66166"
      },
      "source": [
        "class student:\n",
        "  count=0\n",
        "  def __init__(self,num) :\n",
        "    student.count=student.count+num\n",
        "\n",
        "s1=student(2)\n",
        "s2=student(4)\n",
        "s3=student(8)\n",
        "\n",
        "print(\"Number of students in OOP class :\", student.count)\n",
        "print(\"Number of students in OOP class:\", s2.count)\n",
        "print(\"Number of students in OOP class:\", s1.count)"
      ],
      "execution_count": 5,
      "outputs": [
        {
          "output_type": "stream",
          "name": "stdout",
          "text": [
            "number of students in OOP class : 14\n",
            "number of students in OOP class: 14\n",
            "number of students in OOP class: 14\n"
          ]
        }
      ]
    },
    {
      "cell_type": "code",
      "metadata": {
        "colab": {
          "base_uri": "https://localhost:8080/"
        },
        "id": "pqKwQktU7pS-",
        "outputId": "fc0b7cac-313d-4a67-b0f7-f24e677bad77"
      },
      "source": [
        "# Example non parametrized constructors\n",
        "class student:\n",
        "  count=0\n",
        "  def __init__(self) :\n",
        "    print(\"This is non parametrized constructor with no arguments or parameters\") \n",
        "\n",
        "  def shownum(self,num):\n",
        "       print(\"number of students in OOP class :\", num * num)\n",
        "       return num*num\n",
        "s1=student()\n",
        "s2=student()\n",
        "s3=student()\n",
        "\n",
        "result1= s1.shownum(3)\n",
        "result2= s2.shownum(4)\n",
        "\n",
        "print(\"Number of students in OOP class :\", result1,result2)"
      ],
      "execution_count": 6,
      "outputs": [
        {
          "output_type": "stream",
          "name": "stdout",
          "text": [
            "This is non parametrized constructor with no arguments or parameters\n",
            "This is non parametrized constructor with no arguments or parameters\n",
            "This is non parametrized constructor with no arguments or parameters\n",
            "number of students in OOP class : 9\n",
            "number of students in OOP class : 16\n",
            "Number of students in OOP class : 9 16\n"
          ]
        }
      ]
    },
    {
      "cell_type": "code",
      "metadata": {
        "colab": {
          "base_uri": "https://localhost:8080/"
        },
        "id": "3Xjgaq4q8Fkj",
        "outputId": "a5b84275-8225-4505-f21d-4b4362afc77d"
      },
      "source": [
        "# Example parametrized constructors\n",
        "class student:\n",
        "  count=0\n",
        "  def __init__(self,stname,stage) :\n",
        "    self.name = stname\n",
        "    self.age = stage\n",
        "\n",
        "  def display(self,styear):\n",
        "       print(\"Student joined in IIIT Dharwad   :\", self.name, self.age, styear)\n",
        "       if styear <= 2020 :\n",
        "         print (\"Student has successfully completed the course\")\n",
        "       return \n",
        "s1=student(\"Karthik\",21)\n",
        "s2=student(\"Raviteja\",23)\n",
        "s3=student(\"Kalyan\",22)\n",
        "\n",
        "s1.display(2018)\n",
        "s2.display(2019)\n",
        "s3.display(2020)"
      ],
      "execution_count": 7,
      "outputs": [
        {
          "output_type": "stream",
          "name": "stdout",
          "text": [
            "Student joined in IIIT Dharwad   : Karthik 21 2018\n",
            "Student has successfully completed the course\n",
            "Student joined in IIIT Dharwad   : Raviteja 23 2019\n",
            "Student has successfully completed the course\n",
            "Student joined in IIIT Dharwad   : Kalyan 22 2020\n",
            "Student has successfully completed the course\n"
          ]
        }
      ]
    },
    {
      "cell_type": "code",
      "metadata": {
        "colab": {
          "base_uri": "https://localhost:8080/"
        },
        "id": "k7swyz8s8tbi",
        "outputId": "06a43e94-4c09-4aec-b0ac-82efda74a6cc"
      },
      "source": [
        " #Python Default Constructor\n",
        "# Example parametrized constructors\n",
        "class student:\n",
        "    name = \"Ram\"\n",
        "    age =  21\n",
        "\n",
        "    def display(self,styear):\n",
        "       print(\"Student joined i# IIIT Dharwad   :\", self.name, self.age, styear)\n",
        "       if styear <= 2020 :\n",
        "         print (\"Student has succesfully completed the course\")\n",
        "       return \n",
        "s1=student()\n",
        "s2=student()\n",
        "s3=student()\n",
        "\n",
        "s1.display(2018)\n",
        "s2.display(2019)"
      ],
      "execution_count": 9,
      "outputs": [
        {
          "output_type": "stream",
          "name": "stdout",
          "text": [
            "Student joined i# IIIT Dharwad   : Ram 21 2018\n",
            "Student has succesfully completed the course\n",
            "Student joined i# IIIT Dharwad   : Ram 21 2019\n",
            "Student has succesfully completed the course\n"
          ]
        }
      ]
    }
  ]
}