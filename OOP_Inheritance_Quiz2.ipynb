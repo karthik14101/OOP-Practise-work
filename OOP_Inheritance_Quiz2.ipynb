{
  "nbformat": 4,
  "nbformat_minor": 0,
  "metadata": {
    "colab": {
      "name": "OOP-Inheritance-Quiz2",
      "provenance": [],
      "authorship_tag": "ABX9TyPzd7XbGe0Qhtfg6NNDz4Ha",
      "include_colab_link": true
    },
    "kernelspec": {
      "name": "python3",
      "display_name": "Python 3"
    },
    "language_info": {
      "name": "python"
    }
  },
  "cells": [
    {
      "cell_type": "markdown",
      "metadata": {
        "id": "view-in-github",
        "colab_type": "text"
      },
      "source": [
        "<a href=\"https://colab.research.google.com/github/karthik14101/OOP-Practise-work/blob/main/OOP_Inheritance_Quiz2.ipynb\" target=\"_parent\"><img src=\"https://colab.research.google.com/assets/colab-badge.svg\" alt=\"Open In Colab\"/></a>"
      ]
    },
    {
      "cell_type": "code",
      "metadata": {
        "colab": {
          "base_uri": "https://localhost:8080/"
        },
        "id": "og804QPHCbEg",
        "outputId": "be39b1b8-0edd-40a9-eecb-9afd0f291226"
      },
      "source": [
        "# Problem 1: Create a Player class\n",
        "class Player:\n",
        "    MAX_POSITION = 20     # Class attribute   \n",
        "    def __init__(self):\n",
        "      self.position = 0 \n",
        "print(Player.MAX_POSITION)    # instance accessing Class attribute\n",
        "#print(Player.position)   gives attribute error\n",
        "# Create a player p and print its MAX_POSITITON\n",
        "p = Player()\n",
        "print(p.position) #prints 0 as output\n",
        "print(p.MAX_POSITION)  # what is the oputput?"
      ],
      "execution_count": 2,
      "outputs": [
        {
          "output_type": "stream",
          "name": "stdout",
          "text": [
            "20\n",
            "0\n",
            "20\n"
          ]
        }
      ]
    },
    {
      "cell_type": "code",
      "metadata": {
        "colab": {
          "base_uri": "https://localhost:8080/"
        },
        "id": "rAkmVqEFDVqb",
        "outputId": "3ee7f36b-9f20-43ec-b590-4bbb0ecf27c6"
      },
      "source": [
        "## Problem2 :\n",
        "class Player:\n",
        "    MAX_POSITION = 20     # Class attribute   \n",
        "    def __init__(self):\n",
        "      self.position = 0\n",
        "class Racer(Player):\n",
        "    MAX_SPEED = 4      # adding attributes to Child Class\n",
        "class Racer2(Player):\n",
        "    MAX_SPEED2 = 6\n",
        "\n",
        "p = Player()\n",
        "r = Racer()\n",
        "r2 = Racer2()\n",
        "# What is the output?\n",
        "#print(\"p.MAX_SPEED = \", p.MAX_SPEED)  #cannot access MAX_SPEED because it is not an attribute of parent class\n",
        "print(\"r.MAX_SPEED = \", r.MAX_SPEED)\n",
        "print(\"p.MAX_POSITION = \", p.MAX_POSITION)\n",
        "print(\"r.MAX_POSITION = \", r.MAX_POSITION)\n",
        "print(\"p.position = \", p.position)\n",
        "print(\"r.position = \",r.position)\n",
        "#print(\"r2.MAX_SPEED = \",r2.MAX_SPEED) can't access beacuse racer2 is not inheritance of racer\n",
        "print(\"r2.MAX_SPEED2 = \",r2.MAX_SPEED2)"
      ],
      "execution_count": 3,
      "outputs": [
        {
          "output_type": "stream",
          "name": "stdout",
          "text": [
            "r.MAX_SPEED =  4\n",
            "p.MAX_POSITION =  20\n",
            "r.MAX_POSITION =  20\n",
            "p.position =  0\n",
            "r.position =  0\n",
            "r2.MAX_SPEED2 =  6\n"
          ]
        }
      ]
    },
    {
      "cell_type": "code",
      "metadata": {
        "colab": {
          "base_uri": "https://localhost:8080/"
        },
        "id": "g7eW9CuNDhDB",
        "outputId": "f1dcfcd9-bc9f-4d06-c96e-6f763ab9f9bd"
      },
      "source": [
        "# Problem 3: making changes in Child class methods\n",
        "class Employee:\n",
        "    def __init__(self, name, salary=75000):\n",
        "        self.name = name\n",
        "        self.salary = salary\n",
        "    def give_raise(self, amount):\n",
        "        self.salary += amount        \n",
        "class Manager(Employee):\n",
        "    def display(self):\n",
        "        print(\"Manager \", self.name)\n",
        "    def __init__(self, name, salary=90000, project=None):\n",
        "        Employee.__init__(self, name, salary)\n",
        "        self.project = project\n",
        "    def give_raise(self, amount, bonus=1.01): # Add a give_raise method\n",
        "        new_amount = amount * bonus\n",
        "        Employee.give_raise(self, new_amount)  # what is the diff?\n",
        "mngr = Manager(\"Ram\", 78500)\n",
        "mngr.give_raise(3000)\n",
        "print(mngr.salary)   # what is the output?\n",
        "mngr.give_raise(4000, bonus=1.02)\n",
        "print(mngr.salary)"
      ],
      "execution_count": 4,
      "outputs": [
        {
          "output_type": "stream",
          "name": "stdout",
          "text": [
            "81530.0\n",
            "85610.0\n"
          ]
        }
      ]
    },
    {
      "cell_type": "code",
      "metadata": {
        "colab": {
          "base_uri": "https://localhost:8080/"
        },
        "id": "JJAkCl6CD07p",
        "outputId": "f8c5da8a-28ba-4a8f-f97d-0bffbddeafc4"
      },
      "source": [
        " #Problem 4: Alternative Constructor \n",
        "class MyDate:\n",
        "    def __init__(self, year, month, day):     # Constructor\n",
        "      # Python allows multiple variable assignments in one line\n",
        "      self.year, self.month, self.day = year, month, day    \n",
        "    # Define a class method from_str\n",
        "    @classmethod\n",
        "    def from_str(cls, datestr):\n",
        "    # Split the string at \"-\" and  convert each part to integer\n",
        "        parts = datestr.split(\"-\")\n",
        "        year, month, day = int(parts[0]), int(parts[1]), int(parts[2])\n",
        "        return cls(year, month, day)       # Return the class instance  \n",
        "bd = MyDate.from_str('2021-09-10')   \n",
        "print(bd.year)\n",
        "print(bd.month)\n",
        "print(bd.day)"
      ],
      "execution_count": 6,
      "outputs": [
        {
          "output_type": "stream",
          "name": "stdout",
          "text": [
            "2021\n",
            "9\n",
            "10\n"
          ]
        }
      ]
    },
    {
      "cell_type": "code",
      "metadata": {
        "colab": {
          "base_uri": "https://localhost:8080/"
        },
        "id": "KDRWl8KGEIXz",
        "outputId": "93404057-0840-4a09-a299-8f99e5d0fbf7"
      },
      "source": [
        "## Problem 5 : Define a subclass \n",
        "class Employee:\n",
        "  MIN_SALARY = 30000    \n",
        "  def __init__(self, name, salary):\n",
        "      self.name = name\n",
        "      self.salary = salary\n",
        "      if salary >= Employee.MIN_SALARY:\n",
        "        self.salary = salary\n",
        "        print(self.salary)\n",
        "      else:\n",
        "        self.salary = Employee.MIN_SALARY\n",
        "        print(self.salary)\n",
        "  def give_raise(self, amount):\n",
        "      self.salary += amount  \n",
        "      print(self.salary)      \n",
        "# Define a new class Manager inheriting from Employee\n",
        "class Manager(Employee):\n",
        "  pass\n",
        "# Define a Manager object or child class \n",
        "mng = Manager(\"RAVITEJA\",60000)\n",
        "mng.give_raise(5000)\n",
        "# Print mng's name\n",
        "print(mng.name)"
      ],
      "execution_count": 8,
      "outputs": [
        {
          "output_type": "stream",
          "name": "stdout",
          "text": [
            "60000\n",
            "65000\n",
            "RAVITEJA\n"
          ]
        }
      ]
    },
    {
      "cell_type": "code",
      "metadata": {
        "colab": {
          "base_uri": "https://localhost:8080/"
        },
        "id": "ZcQGn18dEhA3",
        "outputId": "89089c30-985b-46d3-a255-67961e8c181b"
      },
      "source": [
        "class Employee:\n",
        "    def __init__(self, name, salary=40000):\n",
        "        self.name = name\n",
        "        self.salary = salary\n",
        "    def give_raise(self, amount):\n",
        "        self.salary += amount      \n",
        "        print(self.salary)  \n",
        "class Manager(Employee):\n",
        "  # Add a constructor \n",
        "    def __init__(self, name, salary, project=None):\n",
        "        # Call the parent's constructor   \n",
        "        Employee.__init__(self, name, salary)\n",
        "        # Assign project attribute\n",
        "        self.project = project\n",
        "    def make_cut(self,amount):\n",
        "        self.salary -= amount\n",
        "        print(self.salary)\n",
        "    def display(self):\n",
        "        print(\"Manager->\",self.name)\n",
        "\n",
        "exam = Manager(\"RAVITEJA\",120000)\n",
        "exam.make_cut(2000)\n",
        "exam.give_raise(7000)\n",
        "exam.display()"
      ],
      "execution_count": 12,
      "outputs": [
        {
          "output_type": "stream",
          "name": "stdout",
          "text": [
            "118000\n",
            "125000\n",
            "Manager-> RAVITEJA\n"
          ]
        }
      ]
    },
    {
      "cell_type": "code",
      "metadata": {
        "id": "vrphDVQeE0Qf"
      },
      "source": [
        "class Employee:\n",
        "    def __init__(self, name, salary=30000):\n",
        "        self.name = name\n",
        "        self.salary = salary\n",
        "    def give_raise(self, amount):\n",
        "        self.salary += amount       \n",
        "class Manager(Employee):\n",
        "  # Add a constructor \n",
        "    def __init__(self, name, salary=50000, project=None):\n",
        "        Employee.__init__(self, name, salary) # Call the parent's constructor \n",
        "        self.project = project      # Assign project attribute\n",
        "    def display(self):\n",
        "        print(\"Manager \", self.name)"
      ],
      "execution_count": 14,
      "outputs": []
    },
    {
      "cell_type": "markdown",
      "metadata": {
        "id": "1xN6_sUIFVIr"
      },
      "source": [
        "### Which of the following statements about inheritance of class attributes is correct?\n",
        "* Class attributes CANNOT be inherited, but new class attributes of the same name CAN be created in a child class.\n",
        "* Class attributes CANNOT be inherited, and new class attributes of the same name CANNOT be created in a child class.\n",
        "* Class attributes CAN be inherited, and the value of class attributes CAN be overwritten in the child class\n",
        "* Class attributes can be inherited, and the value of class attributes CANNOT be overwritten in the child class"
      ]
    }
  ]
}